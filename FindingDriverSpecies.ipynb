{
 "cells": [
  {
   "cell_type": "markdown",
   "metadata": {},
   "source": [
    "# The DriverSpeciesModule\n",
    "\n",
    "\n",
    "Accompaning the paper \"Controlling complex microbial communities: a network based approach\"\n",
    "by Marco Tulio Angulo, Claude H. Moog, and Yang-Yu Liu"
   ]
  },
  {
   "cell_type": "markdown",
   "metadata": {},
   "source": [
    "First, specify the location of the DriverSpeciesModule module in your computer:"
   ]
  },
  {
   "cell_type": "code",
   "execution_count": 2,
   "metadata": {
    "inputHidden": false,
    "outputHidden": false
   },
   "outputs": [
    {
     "data": {
      "text/plain": [
       "\"/Users/darkbyte/Dropbox/Julia/DriverSpecies/CodeToPublish\""
      ]
     },
     "execution_count": 2,
     "metadata": {},
     "output_type": "execute_result"
    }
   ],
   "source": [
    "DriverSpeciesModule_file = \"/Users/darkbyte/Dropbox/Julia/DriverSpecies/CodeToPublish\""
   ]
  },
  {
   "cell_type": "markdown",
   "metadata": {},
   "source": [
    "The, load the DriverSpeciesModule:"
   ]
  },
  {
   "cell_type": "code",
   "execution_count": 3,
   "metadata": {
    "inputHidden": false,
    "outputHidden": false
   },
   "outputs": [
    {
     "name": "stdout",
     "output_type": "stream",
     "text": [
      "Adding current path to LOAD_PATH...\n"
     ]
    },
    {
     "name": "stderr",
     "output_type": "stream",
     "text": [
      "\u001b[1m\u001b[36mINFO: \u001b[39m\u001b[22m\u001b[36mRecompiling stale cache file /Users/darkbyte/.julia/lib/v0.6/DriverSpeciesModule.ji for module DriverSpeciesModule.\n",
      "\u001b[39m"
     ]
    }
   ],
   "source": [
    "cd(DriverSpeciesModule_file)\n",
    "if length( find(x -> x==pwd(), LOAD_PATH) ) .== 0\n",
    "    println(\"Adding current path to LOAD_PATH...\")\n",
    "    push!(LOAD_PATH, pwd())\n",
    "end\n",
    "\n",
    "using DriverSpeciesModule\n",
    "using LightGraphs"
   ]
  },
  {
   "cell_type": "markdown",
   "metadata": {},
   "source": [
    "## Finding a minimal set of driver species\n",
    "\n",
    "Here we illustrate finding a minimal set of driver species from a randomly created microbial community with ecological network \"g\".\n",
    "Subsitute the network g with your actual ecological network to find its driver species.\n",
    "\n",
    "Note that DriverSpecies(A) computes the driver species of a microbial community with ecological network given by the adjacency matrix A."
   ]
  },
  {
   "cell_type": "code",
   "execution_count": 4,
   "metadata": {
    "inputHidden": false,
    "outputHidden": false
   },
   "outputs": [
    {
     "data": {
      "text/plain": [
       "{20, 60} directed simple Int64 graph"
      ]
     },
     "execution_count": 4,
     "metadata": {},
     "output_type": "execute_result"
    }
   ],
   "source": [
    "g = erdos_renyi(20, 60, is_directed=true)"
   ]
  },
  {
   "cell_type": "markdown",
   "metadata": {},
   "source": [
    "Find a minimal set of driver species"
   ]
  },
  {
   "cell_type": "code",
   "execution_count": 5,
   "metadata": {
    "inputHidden": false,
    "outputHidden": false
   },
   "outputs": [
    {
     "data": {
      "text/plain": [
       "1-element Array{Int16,1}:\n",
       " 14"
      ]
     },
     "execution_count": 5,
     "metadata": {},
     "output_type": "execute_result"
    }
   ],
   "source": [
    "A = convert(SparseMatrixCSC{Float64,Int64}, adjacency_matrix(g))\n",
    "driver_species = DriverSpecies(A)"
   ]
  },
  {
   "cell_type": "markdown",
   "metadata": {},
   "source": [
    "## Computing the mean sucess rate\n",
    "\n",
    "Compute the mean success rate of the linear MPC applied to a minimal set of driver species."
   ]
  },
  {
   "cell_type": "code",
   "execution_count": 6,
   "metadata": {},
   "outputs": [
    {
     "name": "stdout",
     "output_type": "stream",
     "text": [
      "Stable by itself...\n",
      "Stable by itself...\n",
      "Stable by itself...\n",
      "Success! |xd - x_final| = 0.09714173509700119\n",
      "Success! |xd - x_final| = 0.095380917343453\n",
      "Stable by itself...\n",
      "Stable by itself...\n",
      "Success! |xd - x_final| = 0.10279235195160685\n",
      "Success! |xd - x_final| = 0.10193486503711324\n",
      "Success! |xd - x_final| = 0.09643124079514198\n",
      "Stable by itself...\n",
      "Stable by itself...\n",
      "Stable by itself...\n",
      "Success! |xd - x_final| = 0.10593477739982637\n",
      "Stable by itself...\n",
      "Stable by itself...\n",
      "Stable by itself...\n",
      "Stable by itself...\n",
      "Stable by itself...\n",
      "Stable by itself...\n",
      "Stable by itself...\n",
      "Stable by itself...\n",
      "Stable by itself...\n",
      "Stable by itself...\n",
      "Success! |xd - x_final| = 0.1035009158530289\n",
      "Stable by itself...\n",
      "Stable by itself...\n",
      "Stable by itself...\n",
      "Success! |xd - x_final| = 0.12553348901877137\n",
      "Success! |xd - x_final| = 0.10052411923794424\n",
      "Stable by itself...\n",
      "Stable by itself...\n",
      "Stable by itself...\n",
      "Success! |xd - x_final| = 0.10496650083581915\n",
      "Stable by itself...\n",
      "Stable by itself...\n",
      "Stable by itself...\n",
      "Stable by itself...\n",
      "Success! |xd - x_final| = 0.08336480201025587\n",
      "Stable by itself...\n",
      "Stable by itself...\n",
      "Success! |xd - x_final| = 0.09472909948210018\n",
      "Stable by itself...\n",
      "Stable by itself...\n",
      "Stable by itself...\n",
      "Stable by itself...\n",
      "Stable by itself...\n"
     ]
    },
    {
     "data": {
      "text/plain": [
       "([1.0, 1.0, 1.0, NaN, 0.0, 1.0, 0.333333, 1.0, 1.0, NaN], [0.08, 0.1, 0.1, NaN, 0.09, 0.09, 0.07, 0.05, 0.12, NaN])"
      ]
     },
     "execution_count": 6,
     "metadata": {},
     "output_type": "execute_result"
    }
   ],
   "source": [
    "distance= 4.0 #distance to the desired state\n",
    "NumberOfInitialConditions = 5\n",
    "NumberOfNetworks = 10\n",
    "N = 100 #number of species\n",
    "C = 0.025 #connectivity of the network\n",
    "sigma = 0.8 #interspecies interaction strengths\n",
    "RewiringProbability = 0\n",
    "\n",
    "GetControllerSuccess_Rate_OverNetworkRealizations(\n",
    "        distance,\n",
    "        NumberOfInitialConditions,\n",
    "        NumberOfNetworks,\n",
    "        N, C, sigma,\n",
    "        RewiringProbability)"
   ]
  },
  {
   "cell_type": "code",
   "execution_count": null,
   "metadata": {},
   "outputs": [],
   "source": []
  }
 ],
 "metadata": {
  "kernel_info": {
   "name": "julia-0.6"
  },
  "kernelspec": {
   "display_name": "Julia 0.6.4",
   "language": "julia",
   "name": "julia-0.6"
  },
  "language_info": {
   "file_extension": ".jl",
   "mimetype": "application/julia",
   "name": "julia",
   "version": "0.6.4"
  },
  "nteract": {
   "version": "0.11.9"
  }
 },
 "nbformat": 4,
 "nbformat_minor": 4
}
